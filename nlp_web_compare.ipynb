{
 "cells": [
  {
   "cell_type": "code",
   "execution_count": 1,
   "id": "974bd06b",
   "metadata": {},
   "outputs": [],
   "source": [
    "from bs4 import BeautifulSoup\n",
    "\n",
    "import urllib.request\n",
    "\n",
    "import nltk\n",
    "\n",
    "import requests\n",
    "\n",
    "import time\n",
    "\n",
    "from nltk.corpus import stopwords\n",
    "\n",
    "import random\n",
    "\n",
    "\n",
    "import gtts\n",
    "\n",
    "from playsound import playsound\n",
    "\n",
    "headers = {'User-Agent': 'Mozilla/5.0 (Macintosh; Intel Mac OS X 10_10_1) AppleWebKit/537.36 (KHTML, like Gecko) Chrome/39.0.2171.95 Safari/537.36'}\n",
    "\n",
    "#url='https://mwang0605.github.io/esports_website/'\n",
    "\n",
    "url=\"https://www.centurycommunities.com/find-your-home/georgia/dalton-metro/jefferson/oconee-station\"\n",
    "\n",
    "#url_2=\"https://www.centurycommunities.com/find-your-home/florida/gulf-coast-metro/lehigh-acres/vistanna-villas\""
   ]
  },
  {
   "cell_type": "code",
   "execution_count": 2,
   "id": "fd5f02c8",
   "metadata": {},
   "outputs": [],
   "source": [
    "def tokenize(url):\n",
    "    response = requests.get(url, headers=headers)\n",
    "\n",
    "    origin_html = response.text\n",
    "\n",
    "\n",
    "    soup = BeautifulSoup(origin_html,\"html5lib\")\n",
    "\n",
    "    text = soup.get_text(strip=True)\n",
    "\n",
    "    tokens = [t for t in text.split()]\n",
    "\n",
    "    freq = nltk.FreqDist(tokens)\n",
    "\n",
    "    clean_tokens = tokens[:]\n",
    "\n",
    "    sr = stopwords.words('english')\n",
    "\n",
    "    for token in tokens:\n",
    "\n",
    "        if token in stopwords.words('english'):\n",
    "\n",
    "            clean_tokens.remove(token)\n",
    "\n",
    "\n",
    "    freq = nltk.FreqDist(clean_tokens)\n",
    "    return freq\n",
    "\n"
   ]
  },
  {
   "cell_type": "code",
   "execution_count": 3,
   "id": "60b386e8",
   "metadata": {},
   "outputs": [],
   "source": [
    "tts = gtts.gTTS(\"Wake up! New home is just released\")\n",
    "tts.save(\"./wakeup.mp3\")"
   ]
  },
  {
   "cell_type": "code",
   "execution_count": 4,
   "id": "2e74a4c9",
   "metadata": {},
   "outputs": [],
   "source": [
    "freq1=tokenize(url)\n",
    "freq2=tokenize(url)\n",
    "\n",
    "# while 1:\n",
    "#     playsound(\"./wakeup.mp3\")\n",
    "#     time.sleep(2)\n",
    "# for freq1line, freq2line in zip(freq1,freq2):\n",
    "#     print(freq1line)\n",
    "#     print(freq2line)"
   ]
  },
  {
   "cell_type": "code",
   "execution_count": null,
   "id": "e2b4917b",
   "metadata": {},
   "outputs": [
    {
     "name": "stdout",
     "output_type": "stream",
     "text": [
      "no change\n",
      "no change\n",
      "no change\n",
      "no change\n",
      "changed but not we want: ['GASchoolsSchoolsGum', 'InformationJefferson,']\n",
      "no change\n",
      "no change\n",
      "no change\n",
      "no change\n",
      "changed but not we want: ['GASchoolsSchoolsGum', 'InformationJefferson,']\n",
      "no change\n",
      "no change\n",
      "changed but not we want: ['GASchoolsSchoolsGum', 'InformationJefferson,']\n",
      "changed but not we want: ['GASchoolsSchoolsGum', 'InformationJefferson,']\n",
      "changed but not we want: ['GASchoolsSchoolsGum', 'InformationJefferson,']\n",
      "no change\n",
      "changed but not we want: ['GASchoolsSchoolsGum', 'InformationJefferson,']\n",
      "changed but not we want: ['GASchoolsSchoolsGum', 'InformationJefferson,']\n",
      "changed but not we want: ['GASchoolsSchoolsGum', 'InformationJefferson,']\n",
      "no change\n",
      "no change\n",
      "changed but not we want: ['GASchoolsSchoolsGum', 'InformationJefferson,']\n",
      "changed but not we want: ['GASchoolsSchoolsGum', 'InformationJefferson,']\n",
      "changed but not we want: ['GASchoolsSchoolsGum', 'InformationJefferson,']\n",
      "changed but not we want: ['GASchoolsSchoolsGum', 'InformationJefferson,']\n",
      "no change\n",
      "changed but not we want: ['GASchoolsSchoolsGum', 'InformationJefferson,']\n",
      "no change\n"
     ]
    }
   ],
   "source": [
    "\n",
    "headers = {'User-Agent': 'Mozilla/5.0 (Macintosh; Intel Mac OS X 10_10_1) AppleWebKit/537.36 (KHTML, like Gecko) Chrome/39.0.2171.95 Safari/537.36'}\n",
    "\n",
    "response = requests.get(url, headers=headers)\n",
    "\n",
    "origin_html = response.text\n",
    "\n",
    "\n",
    "random_int = random.randint(0,10)\n",
    "# soup = BeautifulSoup(html, \"html5lib\")\n",
    "#\n",
    "# text = soup.get_text(strip=True)\n",
    "\n",
    "#print (origin_html)\n",
    "time.sleep(10)\n",
    "while 1:\n",
    "    freq2=tokenize(url)\n",
    "    if freq1.keys() != freq2.keys():\n",
    "        if list(set(freq1.keys()) - set(freq2.keys())) == ['GASchoolsSchoolsGum', 'InformationJefferson,']:\n",
    "            print(\"changed but not we want:\", list(set(freq1.keys()) - set(freq2.keys())))\n",
    "        else:\n",
    "            print(freq1.keys())\n",
    "            print(\"||||||||||||||||||||||||||||||||||||||||||||||||||||||||||||||||||||||||||||||||||||||||||||||||||||||||||||||||||||||||||||||||||||||||||\")\n",
    "            print(freq2.keys())\n",
    "            print(\"CHANGED!\")\n",
    "            while 1:\n",
    "                playsound(\"./wakeup.mp3\")\n",
    "                time.sleep(2)\n",
    "            exit()\n",
    "    else:\n",
    "        for key, value in freq1.items():\n",
    "            if freq2[key] != value:\n",
    "                print('changed:', key, value)\n",
    "                while 1:\n",
    "                    playsound(\"./wakeup.mp3\")\n",
    "                    time.sleep(2)\n",
    "                exit()            \n",
    "        print(\"no change\")\n",
    "        time.sleep(10 + random_int)\n",
    "        "
   ]
  },
  {
   "cell_type": "code",
   "execution_count": null,
   "id": "939f6567",
   "metadata": {},
   "outputs": [],
   "source": []
  },
  {
   "cell_type": "code",
   "execution_count": 8,
   "id": "975174d9",
   "metadata": {},
   "outputs": [
    {
     "data": {
      "text/plain": [
       "['GASchoolsSchoolsGum', 'InformationJefferson,']"
      ]
     },
     "execution_count": 8,
     "metadata": {},
     "output_type": "execute_result"
    }
   ],
   "source": []
  },
  {
   "cell_type": "code",
   "execution_count": 6,
   "id": "dbd055ce",
   "metadata": {},
   "outputs": [
    {
     "name": "stdout",
     "output_type": "stream",
     "text": [
      "changed: InformationJefferson, 1\n"
     ]
    }
   ],
   "source": []
  },
  {
   "cell_type": "code",
   "execution_count": 12,
   "id": "280176f1",
   "metadata": {},
   "outputs": [
    {
     "data": {
      "text/plain": [
       "False"
      ]
     },
     "execution_count": 12,
     "metadata": {},
     "output_type": "execute_result"
    }
   ],
   "source": []
  },
  {
   "cell_type": "code",
   "execution_count": 17,
   "id": "ac8101c2",
   "metadata": {},
   "outputs": [
    {
     "data": {
      "text/plain": [
       "0"
      ]
     },
     "execution_count": 17,
     "metadata": {},
     "output_type": "execute_result"
    }
   ],
   "source": []
  },
  {
   "cell_type": "code",
   "execution_count": 19,
   "id": "795fdf05",
   "metadata": {},
   "outputs": [
    {
     "data": {
      "text/plain": [
       "dict_keys(['Oconee', 'Station', 'New', 'Homes', 'Jefferson', 'GA', '|', 'Century', \"Complete(function(w,d,s,l,i){w[l]=w[l]||[];w[l].push({'gtm.start':\", 'new', \"Date().getTime(),event:'gtm.js'});var\", 'f=d.getElementsByTagName(s)[0],', \"j=d.createElement(s),dl=l!='dataLayer'?'&l='+l:'';j.async=true;j.src=\", \"'https://www.googletagmanager.com/gtm.js?id='+i+dl;f.parentNode.insertBefore(j,f);\", \"})(window,document,'script','dataLayer','GTM-WK5X5R9');#epi-quickNavigator{\", 'display:none', '!important;}#tab_block_lots', '{', 'display:', 'none;', '}.flag-dark-purple', 'background-color:', '#4a104a;', '}', '.flag-light-purple', '#843f7f;', '}window.__lo_site_id', '=', '286494;', '(function()', 'var', 'wa', \"document.createElement('script');\", 'wa.type', \"'text/javascript';\", 'wa.async', 'true;', 'wa.src', \"'https://d10lpsik1i8c69.cloudfront.net/w.js';\", \"document.getElementsByTagName('script')[0];\", 's.parentNode.insertBefore(wa,', 's);', '})();{\"@context\":\"https://schema.org\",\"@type\":\"HomeAndConstructionBusiness\",\"name\":\"Oconee', 'Station\",\"description\":\"Find', 'way', 'beautiful', 'Highway', '124', 'Jefferson,', 'Georgia,', 'minutes', 'I-85.', 'This', 'community', 'less', '30', 'Athens', '10', 'outlets', 'nearby', 'Commerce.', 'You', 'hard', 'pressed', 'find', 'better', 'location', 'incredible', 'value.', 'These', 'large', 'spacious', 'open', 'concept', 'homes', 'homebuyers', 'dream.', 'Let', 'us', 'show', 'offer.\\\\nStudio', 'Information:\\\\nGeorgia', 'East', 'Studio2164', '20', 'WMcDonough,', '30253Phone:', '678.540.1595\",\"image\":\"https://www.centurycommunities.com/globalassets/centurycommunities.com/assets/elevations--amenities/century-complete/cmp-ga/ga-oconee-station/3302---big-box-plans---3823308_grp1-a_750x500.jpg\",\"address\":{\"@type\":\"PostalAddress\",\"addressCountry\":\"US\",\"addressLocality\":\"Jefferson\",\"addressRegion\":\"GA\",\"postalCode\":\"30549\",\"streetAddress\":\"204', 'Indian', 'River', 'Dr\"},\"geo\":{\"@type\":\"GeoCoordinates\",\"latitude\":\"34.101609\",\"longitude\":\"-83.617514\"},\"openingHoursSpecification\":[{\"@type\":\"OpeningHoursSpecification\",\"closes\":\"19:00:00\",\"dayOfWeek\":\"https://schema.org/Monday\",\"opens\":\"08:00:00\"},{\"@type\":\"OpeningHoursSpecification\",\"closes\":\"19:00:00\",\"dayOfWeek\":\"https://schema.org/Tuesday\",\"opens\":\"08:00:00\"},{\"@type\":\"OpeningHoursSpecification\",\"closes\":\"19:00:00\",\"dayOfWeek\":\"https://schema.org/Wednesday\",\"opens\":\"08:00:00\"},{\"@type\":\"OpeningHoursSpecification\",\"closes\":\"19:00:00\",\"dayOfWeek\":\"https://schema.org/Thursday\",\"opens\":\"08:00:00\"},{\"@type\":\"OpeningHoursSpecification\",\"closes\":\"19:00:00\",\"dayOfWeek\":\"https://schema.org/Friday\",\"opens\":\"08:00:00\"},{\"@type\":\"OpeningHoursSpecification\",\"closes\":\"19:00:00\",\"dayOfWeek\":\"https://schema.org/Saturday\",\"opens\":\"10:00:00\"},{\"@type\":\"OpeningHoursSpecification\",\"closes\":\"19:00:00\",\"dayOfWeek\":\"https://schema.org/Sunday\",\"opens\":\"10:00:00\"}],\"telephone\":\"+16785401595\"}var', 'appInsights=window.appInsights||function(config){function', 't(config){i[config]=function(){var', 't=arguments;i.queue.push(function(){i[config].apply(i,t)})}}var', 'i={config:config},u=document,e=window,o=\"script\",s=\"AuthenticatedUserContext\",h=\"start\",c=\"stop\",l=\"Track\",a=l+\"Event\",v=l+\"Page\",r,f;setTimeout(function(){var', 't=u.createElement(o);t.src=config.url||\"https://az416426.vo.msecnd.net/scripts/a/ai.0.js\";u.getElementsByTagName(o)[0].parentNode.appendChild(t)});try{i.cookie=u.cookie}catch(y){}for(i.queue=[],r=[\"Event\",\"Exception\",\"Metric\",\"PageView\",\"Trace\",\"Dependency\"];r.length;)t(\"track\"+r.pop());return', 't(\"set\"+s),t(\"clear\"+s),t(h+a),t(c+a),t(h+v),t(c+v),t(\"flush\"),config.disableExceptionTracking||(r=\"onerror\",t(\"_\"+r),f=e[r],e[r]=function(config,t,u,e,o){var', 's=f&&f(config,t,u,e,o);return', 's!==!0&&i[\"_\"+r](config,t,u,e,o),s}),i}({instrumentationKey:\"a02ba74d-aadd-4b23-ba60-73781cddfdd7\",sdkExtension:\"a\"});window.appInsights=appInsights;appInsights.queue&&appInsights.queue.length===0&&appInsights.trackPageView();var', 'LassoCRM', '||', '{};', '(function', '(ns)', 'ns.tracker', \"LassoAnalytics('LAS-678676-04');\", '})(LassoCRM);', 'try', 'LassoCRM.tracker.setTrackingDomain(\"//app.lassocrm.com\");', 'LassoCRM.tracker.init();', '//', 'initializes', 'tracker', 'LassoCRM.tracker.track();', 'track()', 'records', 'page', 'visit', 'current', 'title,', 'record', 'multiple', 'visits', 'call', 'repeatedly.', 'LassoCRM.tracker.patchRegistrationForms();', 'catch', '(error)', '}MenuHomebuyersHomebuying', 'ProcessOur', 'AffiliatesBlog:', 'The', 'Front', 'PorchHomeownersMaintenance', 'VideosCaring', 'For', 'Your', 'HomeCustomer', 'ServiceDiscover', 'CenturyAbout', 'UsCentury', 'Home', 'ConnectCareersHomeowner', 'ReviewsNewsInvestorsContact', 'UsGeneral', 'InquiryLand', 'SubmissionMediaOur', 'OfficesRealtorsTrade', 'PartnersWarranty', 'ClaimOr', 'use', 'map×Century', 'Communities', 'AvailableCentury', 'Complete', 'AvailableHome|Find', 'Home|Georgia|Dalton', 'Metro|Jefferson|Oconee', 'StationModel', 'CommunityCentury', 'Complete|Jefferson,', '30549Oconee', 'StationStarting', 'from$250,990Est.$1,038/mo$250,990Payments', 'starting', '$1,038/mo*Payment', 'include', 'amounts', 'taxes', 'insurance', 'premiums;', 'actual', 'amount', 'higher.Terms:30', 'yrs', 'FHAInterest', 'Rate:3.125%APR:3.408%Down', 'Payment:3.5%*Financing', 'example', 'based', 'sales', 'price', '$250,990', '3.5%', 'payment', 'minimum', 'credit', 'score', '640.', 'Mortgage', 'FHA', 'year', 'fixed', 'rate', 'loan', '$242,205', 'interest', '3.125%', '(3.408%', 'APR)', 'monthly', 'payments', '$1,038.', 'Monthly', 'principal', 'included', 'payments.', 'taxes,', 'mortgage', 'hazard', 'program.', 'HOA', 'assessments', 'additional', 'payment.', 'Interest', 'rates,', 'payments,', 'terms', 'availability', 'program,', 'price,', 'examples', 'subject', 'change', 'without', 'notice.', 'rates', 'may', 'available', 'time', 'commitment', 'closing.', 'Loans', 'approval.', 'Restrictions', 'conditions', 'apply.', 'Loan', 'program', 'affiliated', 'lender.Get', 'PrequalifiedSingle', 'Family', 'Homes5', 'Floor', 'Plans', 'AvailableMap204', 'Dr,Jefferson,', '30549Get', 'directions678-540-1595Sales', 'Office', 'HoursSales', 'HoursMonday8:00', 'AM', '-', '7:00', 'PMTuesday8:00', 'PMWednesday8:00', 'PMThursday8:00', 'PMFriday8:00', 'PMSaturday10:00', 'PMSunday10:00', 'PMRequest', 'infoSchedule', 'tourUp', '$6000', 'Closing', 'CostsTo', 'help', 'get', 'home,', 'offering', '$6,000', 'towards', 'closing', 'costs.Learn', 'MoreOverviewAvailable', 'HomesFloor', 'PlansArea', 'InformationHomebuyer', 'ResourcesNew', 'StationFind', 'offer.Studio', 'Information:Georgia', '678.540.1595Floor', 'PlansSort', 'By:Price:', 'Low', 'HighPrice:', 'High', 'LowSq', 'Ft:', 'HighSq', 'LowInspired', 'home', 'designsCheck', 'quality', 'layouts', 'purchase', 'today!2402Single', 'HomeEst.$1,038/mo2402$250,990Payments', 'lender.From$250,9902405sq', 'ft4br2.5ba2bayRequest', 'InfoView', 'Details2702Single', 'HomeEst.$1,079/mo2702$260,990Payments', '$1,079/mo*Payment', '$260,990', '$251,855', '$1,079.', 'lender.From$260,9902702sq', 'ft5br2.5ba2bayRequest', 'DetailsSpecial', 'Offer3002Single', 'HomeEst.$1,120/mo3002$270,990Payments', '$1,120/mo*Payment', '$270,990', '$261,505', '$1,120.', 'lender.From$270,9903005sq', 'ft5br3ba2bayRequest', 'Offer3302Single', 'HomeEst.$1,162/mo3302$280,990Payments', '$1,162/mo*Payment', '$280,990', '$271,155', '$1,162.', 'lender.From$280,9903308sq', 'Offer3602Single', 'HomeEst.$1,203/mo3602$290,990Payments', '$1,203/mo*Payment', '$290,990', '$280,805', '$1,203.', 'lender.From$290,9903607sq', 'ft6br2.5ba2bayRequest', 'DetailsALREADY', 'TAKENSort', 'LowHomes', 'reserved', 'contractHomes', 'selling', 'fast!', 'See', \"what's\", 'still', 'above.PendingSpecial', 'Offer276', 'Dr', 'Lot', '00133002Single', 'HomeEst.$1,133/mo0013', '276', 'Dr$0Payments', '$1,133/mo*Payment', '$273,990', '$264,400', '$1,133.', 'lender.Call', 'Available', 'Homes3005sq', 'ft5br3ba2baysView', 'DetailsPendingSpecial', 'Offer282', '00142702Single', 'HomeEst.$1,079/mo0014', '282', 'Homes2702sq', 'ft5br2.5ba2baysView', 'Offer140', '01002402Single', 'HomeEst.$1,058/mo0100', '140', '$1,058/mo*Payment', '$255,990', '$247,030', '$1,058.', 'Homes2405sq', 'ft4br2.5ba2baysView', 'DetailsArea', 'InformationFresno,', 'CASchoolsSchoolsGum', 'Springs', 'Elementary', 'SchoolWest', 'Jackson', 'Middle', 'SchoolJackson', 'County', 'SchoolShoppingShoppingDiningDiningHomebuyer', 'ResourcesBuying', '&', 'Financing|January', '5,', '2021Homeowner', 'ApprovedDiscover', \"we're\", 'homeowner', 'approved,', 'genuine', 'reviews', 'real', 'homeowners!...Read', 'moreBuying', 'Financing|July', '10,', '2020All', 'Family:', 'CompleteDive', 'differences', 'two', 'brands', 'discover', 'might', 'best', 'fit!...Read', 'Financing|August', '2020Steps', 'ProcessIt', 'pays', 'understand', 'secure', 'loan—especially', 'first-time', 'buyer.', 'Check', 'basic', 'steps', 'process!...Read', 'Financing|May', '26,', '2020The', 'Case', 'Buying', 'NowSee', 'could', 'right', 'make', 'move', 'achieve', 'dream', 'home....Read', 'moreHomeowner', 'reviewsSee', 'homeowners', 'saying', 'homes!Request', 'InformationOconee', 'StationSingle', 'Homes204', 'DrJefferson', '30549First', 'NameLast', 'NamePhone', 'NumberEmailContact', 'byEmailPhoneTextSchedule', 'Tour?YesNoTOUR', 'PREFERENCESRecaptcha', 'requiredSubmitRequest', 'InfoMoreSchedule', 'tourCall', 'NowMoreHomebuyersHomebuying', 'homeCustomer', 'submissionMediaOur', 'ClaimPrivacy', 'Policy|Terms', 'Of', 'Use|Exercise', 'My', 'Rights|Do', 'Not', 'Sell', 'Info©', '2021', 'CENTURY', 'COMMUNITIES,', 'All', 'Rights', 'Reserved.if(typeof', 'FindApi', '===', \"'function'){var\", 'api', \"FindApi();api.setApplicationUrl('/');api.setServiceApiBaseUrl('/find_v2/');api.processEventFromCurrentUri();api.bindWindowEvents();api.bindAClickEvent();api.sendBufferedEvents();}window.__lc\", 'window.__lc', 'window.__lc.license', '9622325;', ';(function(n,t,c){function', 'i(n){return', 'e._h?e._h.apply(null,n):e._q.push(n)}var', 'e={_q:[],_h:null,_v:\"2.0\",on:function(){i([\"on\",c.call(arguments)])},once:function(){i([\"once\",c.call(arguments)])},off:function(){i([\"off\",c.call(arguments)])},get:function(){if(!e._h)throw', 'Error(\"[LiveChatWidget]', \"can't\", 'getters', 'load.\");return', 'i([\"get\",c.call(arguments)])},call:function(){i([\"call\",c.call(arguments)])},init:function(){var', 'n=t.createElement(\"script\");n.async=!0,n.type=\"text/javascript\",n.src=\"https://cdn.livechatinc.com/tracking.js\",t.head.appendChild(n)}};!n.__lc.asyncInit&&e.init(),n.LiveChatWidget=n.LiveChatWidget||e}(window,document,[].slice))Chat', 'us,', 'powered', 'byLiveChat'])"
      ]
     },
     "execution_count": 19,
     "metadata": {},
     "output_type": "execute_result"
    }
   ],
   "source": []
  },
  {
   "cell_type": "code",
   "execution_count": null,
   "id": "bfa79b88",
   "metadata": {},
   "outputs": [],
   "source": []
  }
 ],
 "metadata": {
  "kernelspec": {
   "display_name": "Python 3",
   "language": "python",
   "name": "python3"
  },
  "language_info": {
   "codemirror_mode": {
    "name": "ipython",
    "version": 3
   },
   "file_extension": ".py",
   "mimetype": "text/x-python",
   "name": "python",
   "nbconvert_exporter": "python",
   "pygments_lexer": "ipython3",
   "version": "3.9.1"
  }
 },
 "nbformat": 4,
 "nbformat_minor": 5
}
